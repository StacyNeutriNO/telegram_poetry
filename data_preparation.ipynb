{
 "cells": [
  {
   "cell_type": "code",
   "execution_count": 83,
   "id": "7d409e52",
   "metadata": {},
   "outputs": [],
   "source": [
    "import json\n",
    "import os\n",
    "import re\n",
    "\n",
    "import pandas as pd\n",
    "from sklearn.model_selection import train_test_split"
   ]
  },
  {
   "cell_type": "code",
   "execution_count": 84,
   "id": "98ca99b0",
   "metadata": {},
   "outputs": [],
   "source": [
    "with open('classic_poems.json.txt', 'r', encoding='utf-8') as f: \n",
    "    text = json.load(f) "
   ]
  },
  {
   "cell_type": "code",
   "execution_count": 85,
   "id": "676567bf",
   "metadata": {},
   "outputs": [],
   "source": [
    "blok = {}\n",
    "key = 0\n",
    "for poem in text:\n",
    "    if poem['poet_id'] == 'blok':\n",
    "        blok[key]=poem['content']\n",
    "        key += 1"
   ]
  },
  {
   "cell_type": "code",
   "execution_count": 86,
   "id": "eca5eb4c",
   "metadata": {},
   "outputs": [],
   "source": [
    "#уберем лишние символы, приведем к нижниму регистру\n",
    "verses = []\n",
    "for k, v in blok.items():\n",
    "    clear_text = v.split('\\n')\n",
    "    new_text = [] \n",
    "    for row in clear_text:\n",
    "        row = re.sub(r'[^а-яА-ЯёЁ]', ' ', row)\n",
    "        row = row.split()\n",
    "        row = ' '.join(row)\n",
    "        row = row.lower()\n",
    "        if len(row) < 5:\n",
    "            continue\n",
    "        new_text.append(row)\n",
    "    verses.append(new_text)"
   ]
  },
  {
   "cell_type": "code",
   "execution_count": 87,
   "id": "fd24cfc3",
   "metadata": {},
   "outputs": [],
   "source": [
    "#разбиваем на тест и таргет\n",
    "x = []\n",
    "y = []\n",
    "for verse in verses:\n",
    "    for i in range(len(verse)//4):\n",
    "        x.append(verse[i*4])\n",
    "        y.append(verse[4*i+1:4*i+4])\n",
    "        y[-1] = ' '.join(y[-1])"
   ]
  },
  {
   "cell_type": "code",
   "execution_count": 88,
   "id": "6834fa10",
   "metadata": {},
   "outputs": [],
   "source": [
    "x = pd.DataFrame(x)\n",
    "y = pd.DataFrame(y)"
   ]
  },
  {
   "cell_type": "code",
   "execution_count": 89,
   "id": "47394e5c",
   "metadata": {},
   "outputs": [],
   "source": [
    "x_train, x_test, y_train, y_test = train_test_split(x, y, test_size=0.2, random_state=123)"
   ]
  },
  {
   "cell_type": "code",
   "execution_count": 90,
   "id": "dde1ed0d",
   "metadata": {},
   "outputs": [],
   "source": [
    "train_data = {i[0]:j[0] for i,j in zip(x_train.values, y_train.values)}\n",
    "test_data = {i[0]:j[0] for i,j in zip(x_test.values, y_test.values)}"
   ]
  },
  {
   "cell_type": "code",
   "execution_count": 91,
   "id": "96467af5",
   "metadata": {},
   "outputs": [],
   "source": [
    "with open('train_blok.json', 'w') as f:\n",
    "    json.dump(train_data, f, indent=4, ensure_ascii=False)"
   ]
  },
  {
   "cell_type": "code",
   "execution_count": 92,
   "id": "30996c35",
   "metadata": {},
   "outputs": [],
   "source": [
    "with open('test_blok.json', 'w') as f:\n",
    "    json.dump(test_data, f, indent=4, ensure_ascii=False)"
   ]
  }
 ],
 "metadata": {
  "kernelspec": {
   "display_name": "Python 3 (ipykernel)",
   "language": "python",
   "name": "python3"
  },
  "language_info": {
   "codemirror_mode": {
    "name": "ipython",
    "version": 3
   },
   "file_extension": ".py",
   "mimetype": "text/x-python",
   "name": "python",
   "nbconvert_exporter": "python",
   "pygments_lexer": "ipython3",
   "version": "3.10.6"
  }
 },
 "nbformat": 4,
 "nbformat_minor": 5
}
